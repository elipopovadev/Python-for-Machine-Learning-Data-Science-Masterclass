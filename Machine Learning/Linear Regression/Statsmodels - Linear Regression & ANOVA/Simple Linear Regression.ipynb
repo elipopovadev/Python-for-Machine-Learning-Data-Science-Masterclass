{
 "cells": [
  {
   "cell_type": "code",
   "execution_count": 1,
   "id": "c889db8b",
   "metadata": {},
   "outputs": [],
   "source": [
    "import pandas as pd\n",
    "import numpy as np\n",
    "import matplotlib.pyplot as plt\n",
    "import seaborn as sns\n",
    "from statsmodels.formula.api import ols\n",
    "from statsmodels.stats.anova import anova_lm\n",
    "from sklearn.linear_model import LinearRegression\n",
    "from scipy import stats"
   ]
  },
  {
   "cell_type": "markdown",
   "id": "0ff86d49",
   "metadata": {},
   "source": [
    "__Data were collected from a sample of 10 Ice cream vendors located near college campuses.\n",
    "    X is the size of the student population (in thousands) and Y is the quarterly sales \n",
    "    (in thousands of dollars).__"
   ]
  },
  {
   "cell_type": "code",
   "execution_count": 2,
   "id": "2a94a705",
   "metadata": {},
   "outputs": [
    {
     "data": {
      "text/html": [
       "<div>\n",
       "<style scoped>\n",
       "    .dataframe tbody tr th:only-of-type {\n",
       "        vertical-align: middle;\n",
       "    }\n",
       "\n",
       "    .dataframe tbody tr th {\n",
       "        vertical-align: top;\n",
       "    }\n",
       "\n",
       "    .dataframe thead th {\n",
       "        text-align: right;\n",
       "    }\n",
       "</style>\n",
       "<table border=\"1\" class=\"dataframe\">\n",
       "  <thead>\n",
       "    <tr style=\"text-align: right;\">\n",
       "      <th></th>\n",
       "      <th>Restaurant</th>\n",
       "      <th>Student_Population</th>\n",
       "      <th>Sales</th>\n",
       "    </tr>\n",
       "  </thead>\n",
       "  <tbody>\n",
       "    <tr>\n",
       "      <th>0</th>\n",
       "      <td>1</td>\n",
       "      <td>2</td>\n",
       "      <td>58</td>\n",
       "    </tr>\n",
       "    <tr>\n",
       "      <th>1</th>\n",
       "      <td>2</td>\n",
       "      <td>6</td>\n",
       "      <td>105</td>\n",
       "    </tr>\n",
       "    <tr>\n",
       "      <th>2</th>\n",
       "      <td>3</td>\n",
       "      <td>8</td>\n",
       "      <td>88</td>\n",
       "    </tr>\n",
       "    <tr>\n",
       "      <th>3</th>\n",
       "      <td>4</td>\n",
       "      <td>8</td>\n",
       "      <td>118</td>\n",
       "    </tr>\n",
       "    <tr>\n",
       "      <th>4</th>\n",
       "      <td>5</td>\n",
       "      <td>12</td>\n",
       "      <td>117</td>\n",
       "    </tr>\n",
       "    <tr>\n",
       "      <th>5</th>\n",
       "      <td>6</td>\n",
       "      <td>16</td>\n",
       "      <td>137</td>\n",
       "    </tr>\n",
       "    <tr>\n",
       "      <th>6</th>\n",
       "      <td>7</td>\n",
       "      <td>20</td>\n",
       "      <td>157</td>\n",
       "    </tr>\n",
       "    <tr>\n",
       "      <th>7</th>\n",
       "      <td>8</td>\n",
       "      <td>20</td>\n",
       "      <td>169</td>\n",
       "    </tr>\n",
       "    <tr>\n",
       "      <th>8</th>\n",
       "      <td>9</td>\n",
       "      <td>22</td>\n",
       "      <td>149</td>\n",
       "    </tr>\n",
       "    <tr>\n",
       "      <th>9</th>\n",
       "      <td>10</td>\n",
       "      <td>26</td>\n",
       "      <td>202</td>\n",
       "    </tr>\n",
       "  </tbody>\n",
       "</table>\n",
       "</div>"
      ],
      "text/plain": [
       "   Restaurant  Student_Population  Sales\n",
       "0           1                   2     58\n",
       "1           2                   6    105\n",
       "2           3                   8     88\n",
       "3           4                   8    118\n",
       "4           5                  12    117\n",
       "5           6                  16    137\n",
       "6           7                  20    157\n",
       "7           8                  20    169\n",
       "8           9                  22    149\n",
       "9          10                  26    202"
      ]
     },
     "execution_count": 2,
     "metadata": {},
     "output_type": "execute_result"
    }
   ],
   "source": [
    "df1 = pd.read_excel('Irm.xlsx')\n",
    "df1"
   ]
  },
  {
   "cell_type": "markdown",
   "id": "afc7c0e8",
   "metadata": {},
   "source": [
    "# Checking for correlation between Sales and Student Population"
   ]
  },
  {
   "cell_type": "code",
   "execution_count": 3,
   "id": "2a887f82",
   "metadata": {},
   "outputs": [
    {
     "data": {
      "image/png": "[encoded data removed]",
      "text/plain": [
       "<Figure size 640x480 with 1 Axes>"
      ]
     },
     "metadata": {},
     "output_type": "display_data"
    }
   ],
   "source": [
    "plt.scatter(df1['Student_Population'], df1['Sales'], color = 'green')\n",
    "plt.ylabel('Sales')\n",
    "plt.xlabel('Student Population')\n",
    "plt.title('Simple Linear Regression with Student Population')\n",
    "plt.show()"
   ]
  },
  {
   "cell_type": "markdown",
   "id": "90a1ddd7",
   "metadata": {},
   "source": [
    "__Resilt: There is a positive correlation between Sales and Student Population.__"
   ]
  },
  {
   "cell_type": "markdown",
   "id": "d710085c",
   "metadata": {},
   "source": [
    "# Model Creation"
   ]
  },
  {
   "cell_type": "code",
   "execution_count": 4,
   "id": "0eaa9107",
   "metadata": {},
   "outputs": [
    {
     "name": "stdout",
     "output_type": "stream",
     "text": [
      "                            OLS Regression Results                            \n",
      "==============================================================================\n",
      "Dep. Variable:                  Sales   R-squared:                       0.903\n",
      "Model:                            OLS   Adj. R-squared:                  0.891\n",
      "Method:                 Least Squares   F-statistic:                     74.25\n",
      "Date:                Fri, 16 Jun 2023   Prob (F-statistic):           2.55e-05\n",
      "Time:                        15:03:28   Log-Likelihood:                -39.342\n",
      "No. Observations:                  10   AIC:                             82.68\n",
      "Df Residuals:                       8   BIC:                             83.29\n",
      "Df Model:                           1                                         \n",
      "Covariance Type:            nonrobust                                         \n",
      "======================================================================================\n",
      "                         coef    std err          t      P>|t|      [0.025      0.975]\n",
      "--------------------------------------------------------------------------------------\n",
      "Intercept             60.0000      9.226      6.503      0.000      38.725      81.275\n",
      "Student_Population     5.0000      0.580      8.617      0.000       3.662       6.338\n",
      "==============================================================================\n",
      "Omnibus:                        0.928   Durbin-Watson:                   3.224\n",
      "Prob(Omnibus):                  0.629   Jarque-Bera (JB):                0.616\n",
      "Skew:                          -0.060   Prob(JB):                        0.735\n",
      "Kurtosis:                       1.790   Cond. No.                         33.6\n",
      "==============================================================================\n",
      "\n",
      "Notes:\n",
      "[1] Standard Errors assume that the covariance matrix of the errors is correctly specified.\n"
     ]
    },
    {
     "name": "stderr",
     "output_type": "stream",
     "text": [
      "C:\\Users\\eli\\anaconda3\\lib\\site-packages\\scipy\\stats\\_stats_py.py:1736: UserWarning: kurtosistest only valid for n>=20 ... continuing anyway, n=10\n",
      "  warnings.warn(\"kurtosistest only valid for n>=20 ... continuing \"\n"
     ]
    }
   ],
   "source": [
    "Reg1 = ols(formula = \"Sales ~ Student_Population\", data = df1)\n",
    "fit1 = Reg1.fit()\n",
    "print(fit1.summary())"
   ]
  },
  {
   "cell_type": "markdown",
   "id": "3bef4c6d",
   "metadata": {},
   "source": [
    "__Result: Sales = 60 + 5xStudent_Population__ <br>\n",
    "__Increasing the student population by one unit can lead to a fivefold increase in sales (1 unit = 1000 in our case).__"
   ]
  },
  {
   "cell_type": "markdown",
   "id": "30ae9c25",
   "metadata": {},
   "source": [
    "# Create ANOVA table"
   ]
  },
  {
   "cell_type": "code",
   "execution_count": 5,
   "id": "f7104ec4",
   "metadata": {},
   "outputs": [
    {
     "name": "stdout",
     "output_type": "stream",
     "text": [
      "                     df   sum_sq   mean_sq          F    PR(>F)\n",
      "Student_Population  1.0  14200.0  14200.00  74.248366  0.000025\n",
      "Residual            8.0   1530.0    191.25        NaN       NaN\n"
     ]
    }
   ],
   "source": [
    "print(anova_lm(fit1))"
   ]
  },
  {
   "cell_type": "markdown",
   "id": "40f98a1b",
   "metadata": {},
   "source": [
    "__Result: <br> SST: 14200 + 1530 = 15730 <br>\n",
    "    SSR: 14200 <br>\n",
    "    SSE: 1530__"
   ]
  },
  {
   "cell_type": "markdown",
   "id": "33697b98",
   "metadata": {},
   "source": [
    "# Residual plot against x"
   ]
  },
  {
   "cell_type": "code",
   "execution_count": 6,
   "id": "757ba20b",
   "metadata": {},
   "outputs": [
    {
     "data": {
      "image/png": "[encoded data removed]",
      "text/plain": [
       "<Figure size 640x480 with 1 Axes>"
      ]
     },
     "metadata": {},
     "output_type": "display_data"
    }
   ],
   "source": [
    "sns.residplot(df1, x = df1['Student_Population'], y = df1['Sales'], color = 'g')\n",
    "plt.show()"
   ]
  },
  {
   "cell_type": "markdown",
   "id": "a38ac049",
   "metadata": {},
   "source": [
    "__Result: There is no pattern in the Residual plot therefore the regression model is valid, and the relationship between the variables is accurately captured by the model.__"
   ]
  },
  {
   "cell_type": "markdown",
   "id": "bac1ab0b",
   "metadata": {},
   "source": [
    "# Point Estimate"
   ]
  },
  {
   "cell_type": "markdown",
   "id": "692e55c8",
   "metadata": {},
   "source": [
    "__Using the estimated regression equation 60 +5x, we see that for x = 10 (or 10 000 students),\n",
    "60 + 5(10) = 110.<br>\n",
    "Thus, a point estimate of the mean quarterly sales for all restaurants located near campuses with 10 000 students is $110 0000.__"
   ]
  },
  {
   "cell_type": "markdown",
   "id": "e710cf92",
   "metadata": {},
   "source": [
    "# 95% Confidence Interval for the mean value of y for a given value of x"
   ]
  },
  {
   "cell_type": "code",
   "execution_count": 7,
   "id": "77ae3c68",
   "metadata": {},
   "outputs": [
    {
     "data": {
      "image/png": "[encoded data removed]",
      "text/plain": [
       "<Figure size 640x480 with 1 Axes>"
      ]
     },
     "metadata": {},
     "output_type": "display_data"
    }
   ],
   "source": [
    "x = df1['Student_Population']\n",
    "y = df1['Sales']\n",
    "plt.figure()\n",
    "sns.regplot(data = df1, x = x, y = y, fit_reg = True)\n",
    "plt.scatter(np.mean(x), np.mean(y), color = 'green')\n",
    "plt.show()"
   ]
  },
  {
   "cell_type": "markdown",
   "id": "4123aa98",
   "metadata": {},
   "source": [
    "# 95% Prediction Interval for an individual y "
   ]
  },
  {
   "cell_type": "code",
   "execution_count": 8,
   "id": "e9c47387",
   "metadata": {},
   "outputs": [],
   "source": [
    "from sklearn.model_selection import train_test_split\n",
    "X_train, X_test, y_train, y_test = train_test_split(x, y, test_size=0.3, random_state=101)"
   ]
  },
  {
   "cell_type": "code",
   "execution_count": 11,
   "id": "74117028",
   "metadata": {},
   "outputs": [
    {
     "name": "stdout",
     "output_type": "stream",
     "text": [
      "Intercept: 72.02\n",
      "Slope: Student_Population    4.637454\n",
      "dtype: float64\n"
     ]
    },
    {
     "data": {
      "text/html": [
       "<div>\n",
       "<style scoped>\n",
       "    .dataframe tbody tr th:only-of-type {\n",
       "        vertical-align: middle;\n",
       "    }\n",
       "\n",
       "    .dataframe tbody tr th {\n",
       "        vertical-align: top;\n",
       "    }\n",
       "\n",
       "    .dataframe thead th {\n",
       "        text-align: right;\n",
       "    }\n",
       "</style>\n",
       "<table border=\"1\" class=\"dataframe\">\n",
       "  <thead>\n",
       "    <tr style=\"text-align: right;\">\n",
       "      <th></th>\n",
       "      <th>mean</th>\n",
       "      <th>mean_se</th>\n",
       "      <th>mean_ci_lower</th>\n",
       "      <th>mean_ci_upper</th>\n",
       "      <th>obs_ci_lower</th>\n",
       "      <th>obs_ci_upper</th>\n",
       "    </tr>\n",
       "  </thead>\n",
       "  <tbody>\n",
       "    <tr>\n",
       "      <th>8</th>\n",
       "      <td>174.046125</td>\n",
       "      <td>5.156726</td>\n",
       "      <td>160.790339</td>\n",
       "      <td>187.301912</td>\n",
       "      <td>145.793930</td>\n",
       "      <td>202.298321</td>\n",
       "    </tr>\n",
       "    <tr>\n",
       "      <th>2</th>\n",
       "      <td>109.121771</td>\n",
       "      <td>5.499244</td>\n",
       "      <td>94.985515</td>\n",
       "      <td>123.258028</td>\n",
       "      <td>80.445921</td>\n",
       "      <td>137.797622</td>\n",
       "    </tr>\n",
       "    <tr>\n",
       "      <th>0</th>\n",
       "      <td>81.297048</td>\n",
       "      <td>8.264653</td>\n",
       "      <td>60.052081</td>\n",
       "      <td>102.542015</td>\n",
       "      <td>48.527866</td>\n",
       "      <td>114.066230</td>\n",
       "    </tr>\n",
       "  </tbody>\n",
       "</table>\n",
       "</div>"
      ],
      "text/plain": [
       "         mean   mean_se  mean_ci_lower  mean_ci_upper  obs_ci_lower  \\\n",
       "8  174.046125  5.156726     160.790339     187.301912    145.793930   \n",
       "2  109.121771  5.499244      94.985515     123.258028     80.445921   \n",
       "0   81.297048  8.264653      60.052081     102.542015     48.527866   \n",
       "\n",
       "   obs_ci_upper  \n",
       "8    202.298321  \n",
       "2    137.797622  \n",
       "0    114.066230  "
      ]
     },
     "execution_count": 11,
     "metadata": {},
     "output_type": "execute_result"
    }
   ],
   "source": [
    "import statsmodels.api as sm\n",
    "sm_model = sm.OLS(y_train, sm.add_constant(X_train)).fit()\n",
    "print(f\"Intercept: {sm_model.params[0]:.2f}\")\n",
    "print(f\"Slope: {sm_model.params[1:]}\")\n",
    "sm_pred = sm_model.get_prediction(sm.add_constant(X_test)).summary_frame(alpha=0.05)\n",
    "sm_pred"
   ]
  },
  {
   "cell_type": "markdown",
   "id": "354ff567",
   "metadata": {},
   "source": [
    "__This output provides some additional outputs: <br>\n",
    "◼️ mean: Prediction, same as y_pred from earlier. <br>\n",
    "◼️ mean_ci_lower & mean_ci_upper: Confidence interval boundaries <br>\n",
    "◼️ obs_ci_lower & obs_ci_upper: Prediction interval boundaries, same as lower and upper from earlier.__"
   ]
  }
 ],
 "metadata": {
  "hide_input": false,
  "kernelspec": {
   "display_name": "Python 3 (ipykernel)",
   "language": "python",
   "name": "python3"
  },
  "language_info": {
   "codemirror_mode": {
    "name": "ipython",
    "version": 3
   },
   "file_extension": ".py",
   "mimetype": "text/x-python",
   "name": "python",
   "nbconvert_exporter": "python",
   "pygments_lexer": "ipython3",
   "version": "3.10.9"
  },
  "toc": {
   "base_numbering": 1,
   "nav_menu": {},
   "number_sections": true,
   "sideBar": true,
   "skip_h1_title": false,
   "title_cell": "Table of Contents",
   "title_sidebar": "Contents",
   "toc_cell": false,
   "toc_position": {},
   "toc_section_display": true,
   "toc_window_display": false
  }
 },
 "nbformat": 4,
 "nbformat_minor": 5
}
